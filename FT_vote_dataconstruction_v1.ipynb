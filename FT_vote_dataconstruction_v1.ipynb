{
 "cells": [
  {
   "cell_type": "markdown",
   "metadata": {},
   "source": [
    "### Import packages"
   ]
  },
  {
   "cell_type": "code",
   "execution_count": 1,
   "metadata": {},
   "outputs": [],
   "source": [
    "from urllib import request\n",
    "from bs4 import BeautifulSoup\n",
    "import re\n",
    "import pandas as pd\n",
    "import numpy as np\n",
    "import time\n",
    "import seaborn as sns\n",
    "import matplotlib.pyplot as plt"
   ]
  },
  {
   "cell_type": "markdown",
   "metadata": {},
   "source": [
    "## Data manipulation - OVERALL LEVEL"
   ]
  },
  {
   "cell_type": "code",
   "execution_count": 2,
   "metadata": {},
   "outputs": [],
   "source": [
    "df_overall=pd.read_csv('df_overall.csv')\n",
    "#convert to ints\n",
    "df_overall['for']=df_overall['for'].astype(int, copy=True, errors='raise')\n",
    "df_overall.imod=df_overall.imod.astype(int, copy=True, errors='raise')\n",
    "df_overall.hverkeneller=df_overall.hverkeneller.astype(int, copy=True, errors='raise')\n",
    "df_overall.fravaer=df_overall.fravaer.astype(int, copy=True, errors='raise')\n",
    "df_overall.total=df_overall.total.astype(int, copy=True, errors='raise')"
   ]
  },
  {
   "cell_type": "code",
   "execution_count": 3,
   "metadata": {},
   "outputs": [
    {
     "name": "stderr",
     "output_type": "stream",
     "text": [
      "C:\\ProgramData\\Anaconda3\\lib\\site-packages\\ipykernel_launcher.py:11: SettingWithCopyWarning: \n",
      "A value is trying to be set on a copy of a slice from a DataFrame.\n",
      "Try using .loc[row_indexer,col_indexer] = value instead\n",
      "\n",
      "See the caveats in the documentation: http://pandas.pydata.org/pandas-docs/stable/indexing.html#indexing-view-versus-copy\n",
      "  # This is added back by InteractiveShellApp.init_path()\n",
      "C:\\ProgramData\\Anaconda3\\lib\\site-packages\\pandas\\core\\indexing.py:362: SettingWithCopyWarning: \n",
      "A value is trying to be set on a copy of a slice from a DataFrame.\n",
      "Try using .loc[row_indexer,col_indexer] = value instead\n",
      "\n",
      "See the caveats in the documentation: http://pandas.pydata.org/pandas-docs/stable/indexing.html#indexing-view-versus-copy\n",
      "  self.obj[key] = _infer_fill_value(value)\n",
      "C:\\ProgramData\\Anaconda3\\lib\\site-packages\\pandas\\core\\indexing.py:543: SettingWithCopyWarning: \n",
      "A value is trying to be set on a copy of a slice from a DataFrame.\n",
      "Try using .loc[row_indexer,col_indexer] = value instead\n",
      "\n",
      "See the caveats in the documentation: http://pandas.pydata.org/pandas-docs/stable/indexing.html#indexing-view-versus-copy\n",
      "  self.obj[item] = s\n",
      "C:\\ProgramData\\Anaconda3\\lib\\site-packages\\ipykernel_launcher.py:14: SettingWithCopyWarning: \n",
      "A value is trying to be set on a copy of a slice from a DataFrame.\n",
      "Try using .loc[row_indexer,col_indexer] = value instead\n",
      "\n",
      "See the caveats in the documentation: http://pandas.pydata.org/pandas-docs/stable/indexing.html#indexing-view-versus-copy\n",
      "  \n",
      "C:\\ProgramData\\Anaconda3\\lib\\site-packages\\ipykernel_launcher.py:17: SettingWithCopyWarning: \n",
      "A value is trying to be set on a copy of a slice from a DataFrame.\n",
      "Try using .loc[row_indexer,col_indexer] = value instead\n",
      "\n",
      "See the caveats in the documentation: http://pandas.pydata.org/pandas-docs/stable/indexing.html#indexing-view-versus-copy\n"
     ]
    }
   ],
   "source": [
    "df_overall['fullvote'] = np.where(df_overall['total']==179,1,0)\n",
    "df_overall['inbetween'] = np.where((df_overall['total']<179) & (df_overall['total']>0),1,0)\n",
    "df_overall['givenvotes'] = df_overall['for']+df_overall['imod']+df_overall['hverkeneller']\n",
    "df_overall['tally'] = df_overall['for']+df_overall['imod']+df_overall['hverkeneller']+df_overall['fravaer']\n",
    "\n",
    "df_overall['zerovotes'] = np.where(df_overall['total']==0,1,0)\n",
    "df_overall2=df_overall[df_overall['zerovotes']==0]\n",
    "laws_to_be_removed=df_overall[df_overall['zerovotes']==1]\n",
    "laws_to_be_removed=laws_to_be_removed[['unqiueid','zerovotes','url']]\n",
    "\n",
    "df_overall2['temp'] = df_overall2.metadata_number.apply(lambda x: (re.findall('(\\d{4})',x)))\n",
    "df_overall2.loc[:, 'year'] = df_overall2.temp.map(lambda x: x[0])\n",
    "\n",
    "df_overall2['temp'] = df_overall2.metadata_number.apply(lambda x: (re.findall('\\d{4}-(\\d\\d)-\\d\\d',x)))\n",
    "df_overall2.loc[:, 'month'] = df_overall2.temp.map(lambda x: x[0])\n",
    "\n",
    "df_overall2['temp'] = df_overall2.metadata_number.apply(lambda x: (re.findall('\\d{4}-\\d\\d-(\\d\\d)',x)))\n",
    "df_overall2.loc[:, 'day'] = df_overall2.temp.map(lambda x: x[0])"
   ]
  },
  {
   "cell_type": "code",
   "execution_count": 4,
   "metadata": {},
   "outputs": [
    {
     "name": "stderr",
     "output_type": "stream",
     "text": [
      "C:\\ProgramData\\Anaconda3\\lib\\site-packages\\ipykernel_launcher.py:8: SettingWithCopyWarning: \n",
      "A value is trying to be set on a copy of a slice from a DataFrame.\n",
      "Try using .loc[row_indexer,col_indexer] = value instead\n",
      "\n",
      "See the caveats in the documentation: http://pandas.pydata.org/pandas-docs/stable/indexing.html#indexing-view-versus-copy\n",
      "  \n",
      "C:\\ProgramData\\Anaconda3\\lib\\site-packages\\ipykernel_launcher.py:11: SettingWithCopyWarning: \n",
      "A value is trying to be set on a copy of a slice from a DataFrame.\n",
      "Try using .loc[row_indexer,col_indexer] = value instead\n",
      "\n",
      "See the caveats in the documentation: http://pandas.pydata.org/pandas-docs/stable/indexing.html#indexing-view-versus-copy\n",
      "  # This is added back by InteractiveShellApp.init_path()\n",
      "C:\\ProgramData\\Anaconda3\\lib\\site-packages\\ipykernel_launcher.py:12: SettingWithCopyWarning: \n",
      "A value is trying to be set on a copy of a slice from a DataFrame.\n",
      "Try using .loc[row_indexer,col_indexer] = value instead\n",
      "\n",
      "See the caveats in the documentation: http://pandas.pydata.org/pandas-docs/stable/indexing.html#indexing-view-versus-copy\n",
      "  if sys.path[0] == '':\n"
     ]
    }
   ],
   "source": [
    "conditions = [\n",
    "    (df_overall2['for'] == 0) & (df_overall2['imod'] == 0) & (df_overall2['hverkeneller'] == 0),\n",
    "    (df_overall2['for'] == 0) & (df_overall2['imod'] == 0) & (df_overall2['hverkeneller'] > 0),\n",
    "    (df_overall2['for'] == 0) & (df_overall2['imod'] > 0) & (df_overall2['hverkeneller'] == 0),\n",
    "    (df_overall2['for'] > 0) & (df_overall2['imod'] == 0) & (df_overall2['hverkeneller'] == 0),\n",
    "    ]\n",
    "choices = ['agree_allfravear', 'agree_allhverkeneller', 'agree_allimod','agree_allfor']\n",
    "df_overall2['partyalignment'] = np.select(conditions, choices, default='disagree')\n",
    "\n",
    "df_overall2[df_overall2['partyalignment']=='disagree']\n",
    "df_overall2['disagree'] = np.where(df_overall2['partyalignment']=='disagree',1,0)\n",
    "df_overall2['obs']=1"
   ]
  },
  {
   "cell_type": "code",
   "execution_count": 5,
   "metadata": {},
   "outputs": [],
   "source": [
    "df_overall_summed = df_overall2.groupby(['zerovotes','year']).sum()\n",
    "df_overall_summed2=df_overall_summed.reset_index()\n",
    "df_overall_summed2['pct_obstain'] = (df_overall_summed2.hverkeneller)/ (df_overall_summed2.givenvotes) * 100\n",
    "df_overall_summed2['pct_disagree'] = (df_overall_summed2.disagree) / (df_overall_summed2.obs) * 100\n",
    "df_overall_summed2['pct_fravaer'] = (df_overall_summed2.fravaer) / (df_overall_summed2.total) *100"
   ]
  },
  {
   "cell_type": "code",
   "execution_count": 6,
   "metadata": {},
   "outputs": [
    {
     "ename": "NameError",
     "evalue": "name 'df_party' is not defined",
     "output_type": "error",
     "traceback": [
      "\u001b[1;31m---------------------------------------------------------------------------\u001b[0m",
      "\u001b[1;31mNameError\u001b[0m                                 Traceback (most recent call last)",
      "\u001b[1;32m<ipython-input-6-8c2335d00664>\u001b[0m in \u001b[0;36m<module>\u001b[1;34m()\u001b[0m\n\u001b[0;32m      1\u001b[0m \u001b[0mdf_overall_summed\u001b[0m \u001b[1;33m=\u001b[0m \u001b[0mdf_overall2\u001b[0m\u001b[1;33m.\u001b[0m\u001b[0mgroupby\u001b[0m\u001b[1;33m(\u001b[0m\u001b[1;33m[\u001b[0m\u001b[1;34m'samling'\u001b[0m\u001b[1;33m,\u001b[0m\u001b[1;34m'year'\u001b[0m\u001b[1;33m,\u001b[0m\u001b[1;34m'month'\u001b[0m\u001b[1;33m]\u001b[0m\u001b[1;33m)\u001b[0m\u001b[1;33m.\u001b[0m\u001b[0msum\u001b[0m\u001b[1;33m(\u001b[0m\u001b[1;33m)\u001b[0m\u001b[1;33m\u001b[0m\u001b[0m\n\u001b[0;32m      2\u001b[0m \u001b[0mdf_overall_summed\u001b[0m\u001b[1;33m.\u001b[0m\u001b[0mto_csv\u001b[0m\u001b[1;33m(\u001b[0m\u001b[1;34m'df_overall_summed.csv'\u001b[0m\u001b[1;33m)\u001b[0m\u001b[1;33m\u001b[0m\u001b[0m\n\u001b[1;32m----> 3\u001b[1;33m \u001b[0mdf_party_summed\u001b[0m \u001b[1;33m=\u001b[0m \u001b[0mdf_party\u001b[0m\u001b[1;33m.\u001b[0m\u001b[0mgroupby\u001b[0m\u001b[1;33m(\u001b[0m\u001b[1;33m[\u001b[0m\u001b[1;34m'samling'\u001b[0m\u001b[1;33m,\u001b[0m\u001b[1;34m'year'\u001b[0m\u001b[1;33m,\u001b[0m\u001b[1;34m'month'\u001b[0m\u001b[1;33m]\u001b[0m\u001b[1;33m)\u001b[0m\u001b[1;33m.\u001b[0m\u001b[0msum\u001b[0m\u001b[1;33m(\u001b[0m\u001b[1;33m)\u001b[0m\u001b[1;33m\u001b[0m\u001b[0m\n\u001b[0m\u001b[0;32m      4\u001b[0m \u001b[0mdf_party_summed\u001b[0m\u001b[1;33m.\u001b[0m\u001b[0mto_csv\u001b[0m\u001b[1;33m(\u001b[0m\u001b[1;34m'df_party_summed.csv'\u001b[0m\u001b[1;33m)\u001b[0m\u001b[1;33m\u001b[0m\u001b[0m\n",
      "\u001b[1;31mNameError\u001b[0m: name 'df_party' is not defined"
     ]
    }
   ],
   "source": [
    "df_overall_summed = df_overall2.groupby(['samling','year','month']).sum()\n",
    "df_overall_summed.to_csv('df_overall_summed.csv')\n",
    "df_party_summed = df_party.groupby(['samling','year','month']).sum()\n",
    "df_party_summed.to_csv('df_party_summed.csv')"
   ]
  },
  {
   "cell_type": "markdown",
   "metadata": {},
   "source": [
    "### Stemmer 'hverken eller'\n",
    "Ingen udtalt tendens i antal af afgivne stemmer der er hverken eller"
   ]
  },
  {
   "cell_type": "code",
   "execution_count": null,
   "metadata": {},
   "outputs": [],
   "source": [
    "ax1 = sns.barplot(x=\"year\", y=\"pct_obstain\", data=df_overall_summed3)\n",
    "ax1.set_title('Stemmer \"Hverken for eller imod\" (Pct)')"
   ]
  },
  {
   "cell_type": "markdown",
   "metadata": {},
   "source": [
    "## Fravær \n",
    "Svag opadgående tendens"
   ]
  },
  {
   "cell_type": "code",
   "execution_count": null,
   "metadata": {},
   "outputs": [],
   "source": [
    "ax2 = sns.barplot(x=\"year\", y=\"pct_fravaer\", data=df_overall_summed3)\n",
    "ax2.set_title('Fravear (Pct)')"
   ]
  },
  {
   "cell_type": "markdown",
   "metadata": {},
   "source": [
    "# Uenighed på tværs af partier"
   ]
  },
  {
   "cell_type": "code",
   "execution_count": null,
   "metadata": {},
   "outputs": [],
   "source": [
    "ax3 = sns.barplot(x=\"year\", y=\"pct_disagree\", data=df_overall_summed3)\n",
    "ax3.set_title('Disagree (Pct)')"
   ]
  },
  {
   "cell_type": "markdown",
   "metadata": {},
   "source": [
    "# Data manipulation - party level"
   ]
  },
  {
   "cell_type": "code",
   "execution_count": null,
   "metadata": {},
   "outputs": [],
   "source": [
    "df_party=pd.read_csv('df_party.csv')"
   ]
  },
  {
   "cell_type": "code",
   "execution_count": null,
   "metadata": {},
   "outputs": [],
   "source": [
    "#convert to ints\n",
    "df_party['for']=df_party['for'].astype(int, copy=True, errors='raise')\n",
    "df_party.imod=df_party.imod.astype(int, copy=True, errors='raise')\n",
    "df_party.hverkeneller=df_party.hverkeneller.astype(int, copy=True, errors='raise')\n",
    "df_party.fravaer=df_party.fravaer.astype(int, copy=True, errors='raise')\n",
    "df_party.total=df_party.total.astype(int, copy=True, errors='raise')"
   ]
  },
  {
   "cell_type": "code",
   "execution_count": null,
   "metadata": {},
   "outputs": [],
   "source": [
    "df_party['temp'] = df_party.metadata_number.apply(lambda x: (re.findall('(\\d{4})',x)))\n",
    "df_party.loc[:, 'year'] = df_party.temp.map(lambda x: x[0])\n",
    "\n",
    "df_party['temp'] = df_party.metadata_number.apply(lambda x: (re.findall('\\d{4}-(\\d\\d)-\\d\\d',x)))\n",
    "df_party.loc[:, 'month'] = df_party.temp.map(lambda x: x[0])\n",
    "\n",
    "df_party['temp'] = df_party.metadata_number.apply(lambda x: (re.findall('\\d{4}-\\d\\d-(\\d\\d)',x)))\n",
    "df_party.loc[:, 'day'] = df_party.temp.map(lambda x: x[0])"
   ]
  },
  {
   "cell_type": "code",
   "execution_count": null,
   "metadata": {},
   "outputs": [],
   "source": [
    "conditions = [\n",
    "    (df_party['for'] == 0) & (df_party['imod'] == 0) & (df_party['hverkeneller'] == 0),\n",
    "    (df_party['for'] == 0) & (df_party['imod'] == 0) & (df_party['hverkeneller'] > 0),\n",
    "    (df_party['for'] == 0) & (df_party['imod'] > 0) & (df_party['hverkeneller'] == 0),\n",
    "    (df_party['for'] > 0) & (df_party['imod'] == 0) & (df_party['hverkeneller'] == 0),\n",
    "    ]\n",
    "choices = ['agree_allfravear', 'agree_allhverkeneller', 'agree_allimod','agree_allfor']\n",
    "df_party['partyalignment'] = np.select(conditions, choices, default='disagree')\n",
    "\n",
    "df_party[df_party['partyalignment']=='disagree']\n",
    "df_party['disagree'] = np.where(df_party['partyalignment']=='disagree',1,0)\n",
    "df_party['obs']=1"
   ]
  },
  {
   "cell_type": "markdown",
   "metadata": {},
   "source": [
    "# Subsection where smaller parties are removed"
   ]
  },
  {
   "cell_type": "code",
   "execution_count": null,
   "metadata": {},
   "outputs": [],
   "source": [
    "conditions = [\n",
    "    (df_party['party']=='IA'),\n",
    "    (df_party['party']=='JF'),\n",
    "    (df_party['party']=='UFG'),\n",
    "    (df_party['party']=='TF'),\n",
    "    (df_party['party']=='T'),\n",
    "    (df_party['party']=='SIU'),\n",
    "    (df_party['party']=='NY'),\n",
    "    (df_party['party']=='NQ'),\n",
    "    (df_party['party']=='FF'),\n",
    "    (df_party['party']=='SP'),\n",
    "    ]\n",
    "\n",
    "choices = ['delete', 'delete', 'delete','delete','delete','delete','delete','delete','delete','delete']\n",
    "df_party['next'] = np.select(conditions, choices, default='ok')\n",
    "df_party2=df_party[df_party.next=='ok']\n",
    "#df_party2['year'] = df_party2.samling.apply(lambda x: (re.findall('....',x))[0])"
   ]
  },
  {
   "cell_type": "code",
   "execution_count": null,
   "metadata": {},
   "outputs": [],
   "source": [
    "df_party_summed = df_party2.groupby(['party'])['for','imod','hverkeneller','fravaer','total','disagree', 'obs'].sum()\n",
    "df_party_summed['share_pct_disagree']=df_party_summed.disagree / df_party_summed.obs * 100\n",
    "df_party_summed['share_pct_agree']=100-df_party_summed.share_pct_disagree\n",
    "df_party_summed['share_pct_absence']=df_party_summed.fravaer / df_party_summed.total * 100\n",
    "df_party_summed['share_pct_obstain']=df_party_summed.hverkeneller / (df_party_summed.total-df_party_summed.fravaer) * 100\n",
    "df_party_summed #NB check how to exclude parties\n",
    "df_party_summed=df_party_summed.reset_index()"
   ]
  },
  {
   "cell_type": "code",
   "execution_count": null,
   "metadata": {},
   "outputs": [],
   "source": [
    "df_party_summed=df_party_summed.sort_values(['share_pct_obstain'], ascending=0)"
   ]
  },
  {
   "cell_type": "code",
   "execution_count": null,
   "metadata": {},
   "outputs": [],
   "source": [
    "import seaborn as sns\n",
    "sns.set(style=\"whitegrid\")\n",
    "ax = sns.barplot(x='party', y='share_pct_obstain', data=df_party_summed)\n",
    "ax.set_ylabel('')\n",
    "ax.set_xlabel('Partier')\n",
    "ax.set_title('Procent af afgivne stemmer der er \"hverken for eller imod\"')\n",
    "ax.legend()"
   ]
  },
  {
   "cell_type": "markdown",
   "metadata": {},
   "source": [
    "### Party - including all parties"
   ]
  },
  {
   "cell_type": "code",
   "execution_count": null,
   "metadata": {},
   "outputs": [],
   "source": [
    "df_party_summed_year = df_party.groupby(['party','year'])['for','imod','hverkeneller','fravaer','total','disagree', 'obs'].sum()\n",
    "df_party_summed_year['share_pct_disagree']=df_party_summed_year.disagree / df_party_summed_year.obs * 100\n",
    "df_party_summed_year['share_pct_agree']=100-df_party_summed_year.share_pct_disagree\n",
    "df_party_summed_year['share_pct_absence']=df_party_summed_year.fravaer / df_party_summed_year.total * 100\n",
    "df_party_summed_year['share_pct_obstain']=df_party_summed_year.hverkeneller / (df_party_summed_year.total-df_party_summed_year.fravaer) * 100\n",
    "df_party_summed_year #NB check how to exclude parties\n",
    "df_party_summed_year=df_party_summed_year.reset_index()\n",
    "df_party_summed_year.head()"
   ]
  },
  {
   "cell_type": "code",
   "execution_count": null,
   "metadata": {},
   "outputs": [],
   "source": [
    "df_party_summed_year_month = df_party.groupby(['party','year','month'])['for','imod','hverkeneller','fravaer','total','disagree', 'obs'].sum()\n",
    "#df_party_summed_year = df_party2.groupby(['party','year'])['for','imod','hverkeneller','fravaer','total','disagree', 'obs'].sum()\n",
    "df_party_summed_year_month['share_pct_disagree']=df_party_summed_year_month.disagree / df_party_summed_year_month.obs * 100\n",
    "df_party_summed_year_month['share_pct_agree']=100-df_party_summed_year_month.share_pct_disagree\n",
    "df_party_summed_year_month['share_pct_absence']=df_party_summed_year_month.fravaer / df_party_summed_year_month.total * 100\n",
    "df_party_summed_year_month['share_pct_obstain']=df_party_summed_year_month.hverkeneller / (df_party_summed_year_month.total-df_party_summed_year_month.fravaer) * 100\n",
    "df_party_summed_year_month #NB check how to exclude parties\n",
    "df_party_summed_year_month=df_party_summed_year_month.reset_index()\n",
    "df_party_summed_year_month\n",
    "df_party_summed_year_month.to_csv('df_party_summed_year_month.csv')"
   ]
  },
  {
   "cell_type": "code",
   "execution_count": null,
   "metadata": {},
   "outputs": [],
   "source": [
    "df_party_summed_year_month.head()"
   ]
  },
  {
   "cell_type": "code",
   "execution_count": null,
   "metadata": {},
   "outputs": [],
   "source": [
    "temp=df_party.groupby(['unqiueid']).sum()\n",
    "temp.total.value_counts()"
   ]
  },
  {
   "cell_type": "markdown",
   "metadata": {},
   "source": [
    "# member analysis"
   ]
  },
  {
   "cell_type": "code",
   "execution_count": null,
   "metadata": {},
   "outputs": [],
   "source": [
    "#Create a dataset we want to append on\n",
    "datemerge=df_overall2[['unqiueid','year','month','day','zerovotes', 'samling']]"
   ]
  },
  {
   "cell_type": "code",
   "execution_count": null,
   "metadata": {},
   "outputs": [],
   "source": [
    "df_member=pd.read_csv('df_member.csv')"
   ]
  },
  {
   "cell_type": "code",
   "execution_count": null,
   "metadata": {},
   "outputs": [],
   "source": [
    "#convert to ints\n",
    "df_member['for']=df_member['for'].astype(int, copy=True, errors='raise')\n",
    "df_member.imod=df_member.imod.astype(int, copy=True, errors='raise')\n",
    "df_member.hverkeneller=df_member.hverkeneller.astype(int, copy=True, errors='raise')\n",
    "df_member.fravaer=df_member.fravaer.astype(int, copy=True, errors='raise')\n",
    "df_member.total=df_member.total.astype(int, copy=True, errors='raise')\n",
    "df_member.samling=df_member.samling.astype(int, copy=True, errors='raise')"
   ]
  },
  {
   "cell_type": "code",
   "execution_count": null,
   "metadata": {},
   "outputs": [],
   "source": [
    "df_member2=pd.merge(df_member, datemerge, on='unqiueid', how='inner')"
   ]
  },
  {
   "cell_type": "code",
   "execution_count": null,
   "metadata": {},
   "outputs": [],
   "source": [
    "df_member2['yearmonth'] = df_member2['year']+df_member2['month']"
   ]
  },
  {
   "cell_type": "code",
   "execution_count": null,
   "metadata": {},
   "outputs": [],
   "source": [
    "df_member2.yearmonth=df_member2.yearmonth.astype(int, copy=True, errors='raise')"
   ]
  },
  {
   "cell_type": "code",
   "execution_count": null,
   "metadata": {},
   "outputs": [],
   "source": [
    "df_member3=df_member[df_member2.yearmonth>201506]\n",
    "df_member_summed = df_member3.groupby(['name','party'])['for','imod','hverkeneller','fravaer','total'].sum()\n",
    "df_member_summed.to_csv('df_member_summed.csv')"
   ]
  },
  {
   "cell_type": "code",
   "execution_count": null,
   "metadata": {},
   "outputs": [],
   "source": []
  },
  {
   "cell_type": "code",
   "execution_count": null,
   "metadata": {},
   "outputs": [],
   "source": []
  }
 ],
 "metadata": {
  "kernelspec": {
   "display_name": "Python 3",
   "language": "python",
   "name": "python3"
  },
  "language_info": {
   "codemirror_mode": {
    "name": "ipython",
    "version": 3
   },
   "file_extension": ".py",
   "mimetype": "text/x-python",
   "name": "python",
   "nbconvert_exporter": "python",
   "pygments_lexer": "ipython3",
   "version": "3.7.0"
  }
 },
 "nbformat": 4,
 "nbformat_minor": 2
}
